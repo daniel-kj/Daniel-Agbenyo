{
 "cells": [
  {
   "cell_type": "code",
   "execution_count": 72,
   "id": "72bbd907",
   "metadata": {},
   "outputs": [],
   "source": [
    "import pandas as pd"
   ]
  },
  {
   "cell_type": "markdown",
   "id": "278a5d10",
   "metadata": {},
   "source": [
    "# Section A"
   ]
  },
  {
   "cell_type": "markdown",
   "id": "d63b996b",
   "metadata": {},
   "source": [
    "Creating a list of student names"
   ]
  },
  {
   "cell_type": "code",
   "execution_count": 73,
   "id": "1ae6331f",
   "metadata": {},
   "outputs": [],
   "source": [
    "names = ['Kojo', 'Kwame', 'Kwesi', 'Yaw']"
   ]
  },
  {
   "cell_type": "markdown",
   "id": "2a57e5aa",
   "metadata": {},
   "source": [
    "Creating a dataframe"
   ]
  },
  {
   "cell_type": "code",
   "execution_count": 74,
   "id": "a90a3649",
   "metadata": {},
   "outputs": [
    {
     "name": "stdout",
     "output_type": "stream",
     "text": [
      "    Name\n",
      "0   Kojo\n",
      "1  Kwame\n",
      "2  Kwesi\n",
      "3    Yaw\n"
     ]
    }
   ],
   "source": [
    "students = pd.DataFrame(names, columns = ['Name'])\n",
    "print(students)"
   ]
  },
  {
   "cell_type": "markdown",
   "id": "3d236e6b",
   "metadata": {},
   "source": [
    "# Section B"
   ]
  },
  {
   "cell_type": "markdown",
   "id": "1523c421",
   "metadata": {},
   "source": [
    "Creating values"
   ]
  },
  {
   "cell_type": "code",
   "execution_count": 75,
   "id": "398e2f62",
   "metadata": {},
   "outputs": [],
   "source": [
    "teams_goals = {\n",
    "         'Hearts of Oak': [1, 3, 3, 5, 2],\n",
    "         'Asante Kotoko': [0, 6, 3, 1, 1],\n",
    "         'Ebusua Dwarfs': [2, 0, 0, 0, 1],\n",
    "         'Sekondi Hassacas': [3, 2, 2, 0, 0],\n",
    "         'Okwahu United': [1, 1, 3, 5, 1],\n",
    "         'Tano Bofoakwa': [2, 6, 1, 3, 1],\n",
    "         'BA United': [0, 0, 3, 0, 1]\n",
    "}"
   ]
  },
  {
   "cell_type": "markdown",
   "id": "dc405612",
   "metadata": {},
   "source": [
    "Printing values"
   ]
  },
  {
   "cell_type": "code",
   "execution_count": 76,
   "id": "03f60205",
   "metadata": {},
   "outputs": [
    {
     "name": "stdout",
     "output_type": "stream",
     "text": [
      "   Hearts of Oak  Asante Kotoko  Ebusua Dwarfs  Sekondi Hassacas  \\\n",
      "0              1              0              2                 3   \n",
      "1              3              6              0                 2   \n",
      "2              3              3              0                 2   \n",
      "3              5              1              0                 0   \n",
      "4              2              1              1                 0   \n",
      "\n",
      "   Okwahu United  Tano Bofoakwa  BA United  \n",
      "0              1              2          0  \n",
      "1              1              6          0  \n",
      "2              3              1          3  \n",
      "3              5              3          0  \n",
      "4              1              1          1  \n"
     ]
    }
   ],
   "source": [
    "teams = pd.DataFrame(teams_goals)\n",
    "print(teams)"
   ]
  },
  {
   "cell_type": "markdown",
   "id": "d8d74fe7",
   "metadata": {},
   "source": [
    "# Section C"
   ]
  },
  {
   "cell_type": "markdown",
   "id": "fd15ff8e",
   "metadata": {},
   "source": [
    "Creating a dictionary"
   ]
  },
  {
   "cell_type": "code",
   "execution_count": 77,
   "id": "194d9fab",
   "metadata": {},
   "outputs": [],
   "source": [
    "country = {\n",
    "    'country name' : ['Ghana', 'Nigeria', 'Togo', 'Ivory Coast'],\n",
    "    'capital' : ['Accra', 'Abuja', 'Lome', 'Yamoussoukro'], \n",
    "    'population' : [25000000, 5000000, 13000000, 19000000] \n",
    "}"
   ]
  },
  {
   "cell_type": "markdown",
   "id": "4ebb296a",
   "metadata": {},
   "source": [
    "Creating a DataFrame countries"
   ]
  },
  {
   "cell_type": "code",
   "execution_count": 78,
   "id": "7faae5db",
   "metadata": {},
   "outputs": [
    {
     "name": "stdout",
     "output_type": "stream",
     "text": [
      "  country name       capital  population\n",
      "0        Ghana         Accra    25000000\n",
      "1      Nigeria         Abuja     5000000\n",
      "2         Togo          Lome    13000000\n",
      "3  Ivory Coast  Yamoussoukro    19000000\n"
     ]
    }
   ],
   "source": [
    "countries = pd.DataFrame(country)\n",
    "print(countries)"
   ]
  },
  {
   "cell_type": "markdown",
   "id": "cae19009",
   "metadata": {},
   "source": [
    "# Section D"
   ]
  },
  {
   "cell_type": "markdown",
   "id": "ca117d82",
   "metadata": {},
   "source": [
    "Replicating data in tables"
   ]
  },
  {
   "cell_type": "code",
   "execution_count": 82,
   "id": "fc26e30f",
   "metadata": {},
   "outputs": [],
   "source": [
    "league = {\n",
    "    'SN' : [1, 2, 3, 4, 5, 6, 7],\n",
    "    'Team' : ['Hearts of Oak', 'Asante Kotoko', 'Ebusau Dwarfs', 'Secondi Hassacas', 'Okwahu United', 'Tano Bofoakwa', 'BA United'],\n",
    "    'GF' : [120, 90, 90, 80, 78, 70, 71],\n",
    "    'GA' : [35, 55, 60, 43, 39, 50, 55],\n",
    "    'PTS' : [80, 60, 60, 50, 53, 49, 44]\n",
    "}"
   ]
  },
  {
   "cell_type": "markdown",
   "id": "33dc3dac",
   "metadata": {},
   "source": [
    "Printing the data"
   ]
  },
  {
   "cell_type": "code",
   "execution_count": 84,
   "id": "dcd698c5",
   "metadata": {},
   "outputs": [
    {
     "name": "stdout",
     "output_type": "stream",
     "text": [
      "   SN              Team   GF  GA  PTS\n",
      "0   1     Hearts of Oak  120  35   80\n",
      "1   2     Asante Kotoko   90  55   60\n",
      "2   3     Ebusau Dwarfs   90  60   60\n",
      "3   4  Secondi Hassacas   80  43   50\n",
      "4   5     Okwahu United   78  39   53\n",
      "5   6     Tano Bofoakwa   70  50   49\n",
      "6   7         BA United   71  55   44\n"
     ]
    }
   ],
   "source": [
    "GPL = pd.DataFrame(league)\n",
    "print(GPL)"
   ]
  },
  {
   "cell_type": "markdown",
   "id": "81090530",
   "metadata": {},
   "source": [
    "Teams that scored more than 30 goals"
   ]
  },
  {
   "cell_type": "code",
   "execution_count": 90,
   "id": "080230b9",
   "metadata": {},
   "outputs": [
    {
     "name": "stdout",
     "output_type": "stream",
     "text": [
      "   SN              Team   GF  GA  PTS\n",
      "0   1     Hearts of Oak  120  35   80\n",
      "1   2     Asante Kotoko   90  55   60\n",
      "2   3     Ebusau Dwarfs   90  60   60\n",
      "3   4  Secondi Hassacas   80  43   50\n",
      "4   5     Okwahu United   78  39   53\n",
      "5   6     Tano Bofoakwa   70  50   49\n",
      "6   7         BA United   71  55   44\n"
     ]
    }
   ],
   "source": [
    "print(GPL[GPL['GA'] > 30])"
   ]
  },
  {
   "cell_type": "markdown",
   "id": "8354ad99",
   "metadata": {},
   "source": [
    "Teams that scored less than 80 goals"
   ]
  },
  {
   "cell_type": "code",
   "execution_count": 91,
   "id": "00adc0a5",
   "metadata": {},
   "outputs": [
    {
     "name": "stdout",
     "output_type": "stream",
     "text": [
      "   SN           Team  GF  GA  PTS\n",
      "4   5  Okwahu United  78  39   53\n",
      "5   6  Tano Bofoakwa  70  50   49\n",
      "6   7      BA United  71  55   44\n"
     ]
    }
   ],
   "source": [
    "print(GPL[GPL['GF'] < 80])"
   ]
  },
  {
   "cell_type": "markdown",
   "id": "ff0a3405",
   "metadata": {},
   "source": [
    "Teams that had less than 60 points"
   ]
  },
  {
   "cell_type": "code",
   "execution_count": 92,
   "id": "50dfa21f",
   "metadata": {},
   "outputs": [
    {
     "name": "stdout",
     "output_type": "stream",
     "text": [
      "   SN              Team  GF  GA  PTS\n",
      "3   4  Secondi Hassacas  80  43   50\n",
      "4   5     Okwahu United  78  39   53\n",
      "5   6     Tano Bofoakwa  70  50   49\n",
      "6   7         BA United  71  55   44\n"
     ]
    }
   ],
   "source": [
    "print(GPL[GPL['PTS'] < 60])"
   ]
  }
 ],
 "metadata": {
  "kernelspec": {
   "display_name": "Python 3 (ipykernel)",
   "language": "python",
   "name": "python3"
  },
  "language_info": {
   "codemirror_mode": {
    "name": "ipython",
    "version": 3
   },
   "file_extension": ".py",
   "mimetype": "text/x-python",
   "name": "python",
   "nbconvert_exporter": "python",
   "pygments_lexer": "ipython3",
   "version": "3.9.13"
  }
 },
 "nbformat": 4,
 "nbformat_minor": 5
}
