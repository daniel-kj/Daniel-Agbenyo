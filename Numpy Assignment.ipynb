{
 "cells": [
  {
   "cell_type": "markdown",
   "id": "8e67098a",
   "metadata": {},
   "source": [
    "# Importing numpy"
   ]
  },
  {
   "cell_type": "code",
   "execution_count": 1,
   "id": "abbcf66b",
   "metadata": {},
   "outputs": [],
   "source": [
    "import numpy as np"
   ]
  },
  {
   "cell_type": "markdown",
   "id": "ce06ac63",
   "metadata": {},
   "source": [
    "# Section A"
   ]
  },
  {
   "cell_type": "markdown",
   "id": "226a6d1a",
   "metadata": {},
   "source": [
    "Creating 2x3 matrix "
   ]
  },
  {
   "cell_type": "code",
   "execution_count": 2,
   "id": "13256238",
   "metadata": {},
   "outputs": [],
   "source": [
    "a = np.array([[1,2,3],[4,5,6]])"
   ]
  },
  {
   "cell_type": "markdown",
   "id": "2b0066c4",
   "metadata": {},
   "source": [
    "Multiplying matrix by scaler"
   ]
  },
  {
   "cell_type": "code",
   "execution_count": 3,
   "id": "cd3729cd",
   "metadata": {},
   "outputs": [
    {
     "name": "stdout",
     "output_type": "stream",
     "text": [
      "[[ 2  4  6]\n",
      " [ 8 10 12]]\n"
     ]
    }
   ],
   "source": [
    "b = a * 2\n",
    "print(b)"
   ]
  },
  {
   "cell_type": "markdown",
   "id": "065847c5",
   "metadata": {},
   "source": [
    "# Section B"
   ]
  },
  {
   "cell_type": "markdown",
   "id": "889c638c",
   "metadata": {},
   "source": [
    "Creating a 3x3 identity matrix"
   ]
  },
  {
   "cell_type": "code",
   "execution_count": 5,
   "id": "3f5ac2a9",
   "metadata": {},
   "outputs": [
    {
     "name": "stdout",
     "output_type": "stream",
     "text": [
      "[[1. 0. 0.]\n",
      " [0. 1. 0.]\n",
      " [0. 0. 1.]]\n"
     ]
    }
   ],
   "source": [
    "identity_matrix = np.identity(3)\n",
    "print(identity_matrix)"
   ]
  },
  {
   "cell_type": "markdown",
   "id": "0d70fcad",
   "metadata": {},
   "source": [
    "# Section C"
   ]
  },
  {
   "cell_type": "markdown",
   "id": "37ae9935",
   "metadata": {},
   "source": [
    "Creating a 1-D array"
   ]
  },
  {
   "cell_type": "code",
   "execution_count": 10,
   "id": "6a8e1d7d",
   "metadata": {},
   "outputs": [],
   "source": [
    "array1 = np.array([1,2,3,4,5,6,7,8,9,10,\n",
    "                   11,12,13,14,15,16,17,18,19,20,\n",
    "                   21,22,23,24,25,26,27])"
   ]
  },
  {
   "cell_type": "markdown",
   "id": "681e8ff5",
   "metadata": {},
   "source": [
    "Converting matrix from 1-D to 3-D"
   ]
  },
  {
   "cell_type": "code",
   "execution_count": 11,
   "id": "1bcff627",
   "metadata": {},
   "outputs": [
    {
     "data": {
      "text/plain": [
       "array([[[ 1,  2,  3],\n",
       "        [ 4,  5,  6],\n",
       "        [ 7,  8,  9]],\n",
       "\n",
       "       [[10, 11, 12],\n",
       "        [13, 14, 15],\n",
       "        [16, 17, 18]],\n",
       "\n",
       "       [[19, 20, 21],\n",
       "        [22, 23, 24],\n",
       "        [25, 26, 27]]])"
      ]
     },
     "execution_count": 11,
     "metadata": {},
     "output_type": "execute_result"
    }
   ],
   "source": [
    "array2 = array1.reshape((3,3,3))\n",
    "array2"
   ]
  },
  {
   "cell_type": "markdown",
   "id": "8c2213ef",
   "metadata": {},
   "source": [
    "# Section D"
   ]
  },
  {
   "cell_type": "markdown",
   "id": "7858b20e",
   "metadata": {},
   "source": [
    "Creating 2-D array"
   ]
  },
  {
   "cell_type": "code",
   "execution_count": 4,
   "id": "cac109f8",
   "metadata": {},
   "outputs": [],
   "source": [
    "a = ([[1,2,3],[4,5,6]])\n",
    "b = ([[7,8,9],[10,11,12]])"
   ]
  },
  {
   "cell_type": "markdown",
   "id": "75c81d69",
   "metadata": {},
   "source": [
    "Horizontal Stack"
   ]
  },
  {
   "cell_type": "code",
   "execution_count": 6,
   "id": "8ed69128",
   "metadata": {},
   "outputs": [
    {
     "name": "stdout",
     "output_type": "stream",
     "text": [
      "[[ 1  2  3  7  8  9]\n",
      " [ 4  5  6 10 11 12]]\n"
     ]
    }
   ],
   "source": [
    "c = np.hstack((a,b))\n",
    "print(c)"
   ]
  },
  {
   "cell_type": "markdown",
   "id": "b1362d8b",
   "metadata": {},
   "source": [
    "Vertiacal Stack"
   ]
  },
  {
   "cell_type": "code",
   "execution_count": 8,
   "id": "0f003056",
   "metadata": {},
   "outputs": [
    {
     "name": "stdout",
     "output_type": "stream",
     "text": [
      "[[ 1  2  3]\n",
      " [ 4  5  6]\n",
      " [ 7  8  9]\n",
      " [10 11 12]]\n"
     ]
    }
   ],
   "source": [
    "c = np.vstack((a,b))\n",
    "print(c)"
   ]
  },
  {
   "cell_type": "markdown",
   "id": "3ac65b6d",
   "metadata": {},
   "source": [
    "Equally Spaced Sequence"
   ]
  },
  {
   "cell_type": "code",
   "execution_count": 14,
   "id": "e84901dd",
   "metadata": {},
   "outputs": [
    {
     "name": "stdout",
     "output_type": "stream",
     "text": [
      "[  0   5  10  15  20  25  30  35  40  45  50  55  60  65  70  75  80  85\n",
      "  90  95 100]\n"
     ]
    }
   ],
   "source": [
    "sqc = np.arange(0, 101, 5)\n",
    "print(sqc)"
   ]
  }
 ],
 "metadata": {
  "kernelspec": {
   "display_name": "Python 3 (ipykernel)",
   "language": "python",
   "name": "python3"
  },
  "language_info": {
   "codemirror_mode": {
    "name": "ipython",
    "version": 3
   },
   "file_extension": ".py",
   "mimetype": "text/x-python",
   "name": "python",
   "nbconvert_exporter": "python",
   "pygments_lexer": "ipython3",
   "version": "3.9.13"
  }
 },
 "nbformat": 4,
 "nbformat_minor": 5
}
