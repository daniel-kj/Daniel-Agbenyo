{
 "cells": [
  {
   "cell_type": "markdown",
   "id": "6884934b",
   "metadata": {},
   "source": [
    "# Importing Numpy"
   ]
  },
  {
   "cell_type": "code",
   "execution_count": 52,
   "id": "45e64f3e",
   "metadata": {},
   "outputs": [],
   "source": [
    "import numpy as np"
   ]
  },
  {
   "cell_type": "markdown",
   "id": "dd195d32",
   "metadata": {},
   "source": [
    "# Question 1"
   ]
  },
  {
   "cell_type": "code",
   "execution_count": 53,
   "id": "3f17ef0c",
   "metadata": {},
   "outputs": [
    {
     "data": {
      "text/plain": [
       "array([3, 3, 5, 4, 4])"
      ]
     },
     "execution_count": 53,
     "metadata": {},
     "output_type": "execute_result"
    }
   ],
   "source": [
    "vector = np.random.randint(low=0, high=11, size=5)\n",
    "vector"
   ]
  },
  {
   "cell_type": "markdown",
   "id": "754744ad",
   "metadata": {},
   "source": [
    "# Question 2"
   ]
  },
  {
   "cell_type": "code",
   "execution_count": 54,
   "id": "be1783f2",
   "metadata": {},
   "outputs": [
    {
     "data": {
      "text/plain": [
       "array([16, 17, 18, 19, 20, 21, 22, 23, 24, 25, 26, 27, 28, 29, 30, 31, 32,\n",
       "       33, 34, 35, 36, 37, 38, 39, 40, 41, 42, 43, 44, 45, 46, 47, 48, 49,\n",
       "       50, 51, 52, 53])"
      ]
     },
     "execution_count": 54,
     "metadata": {},
     "output_type": "execute_result"
    }
   ],
   "source": [
    "vector1 = np.arange(15, 55)[1: -1]\n",
    "vector1"
   ]
  },
  {
   "cell_type": "markdown",
   "id": "cb07b2e9",
   "metadata": {},
   "source": [
    "# Question 3"
   ]
  },
  {
   "cell_type": "code",
   "execution_count": 58,
   "id": "bfb8d574",
   "metadata": {},
   "outputs": [],
   "source": [
    "vector2 = np.random.rand(1000)\n",
    "average = np.mean(vector2)\n",
    "variance = np.var(vector2)\n",
    "std_dev = np.std(vector2)"
   ]
  },
  {
   "cell_type": "code",
   "execution_count": 60,
   "id": "93681d0d",
   "metadata": {},
   "outputs": [
    {
     "name": "stdout",
     "output_type": "stream",
     "text": [
      "Average =  0.49990497118972926\n",
      "Variance =  0.08683247112797922\n",
      "Standard Deviation =  0.29467349919526054\n"
     ]
    }
   ],
   "source": [
    "print(\"Average = \", average)\n",
    "print(\"Variance = \", variance)\n",
    "print(\"Standard Deviation = \", std_dev)"
   ]
  },
  {
   "cell_type": "markdown",
   "id": "c92b458e",
   "metadata": {},
   "source": [
    "# Question 4"
   ]
  },
  {
   "cell_type": "code",
   "execution_count": 72,
   "id": "98244b29",
   "metadata": {},
   "outputs": [
    {
     "data": {
      "text/plain": [
       "array([[ 8,  9,  6],\n",
       "       [ 3,  6,  8],\n",
       "       [10,  2,  9]])"
      ]
     },
     "execution_count": 72,
     "metadata": {},
     "output_type": "execute_result"
    }
   ],
   "source": [
    "arr = np.random.randint(11, size=(3,3))\n",
    "arr"
   ]
  },
  {
   "cell_type": "code",
   "execution_count": 91,
   "id": "93698df0",
   "metadata": {},
   "outputs": [
    {
     "data": {
      "text/plain": [
       "array([[ 8,  9,  6],\n",
       "       [11, 15, 14],\n",
       "       [21, 17, 23]], dtype=int32)"
      ]
     },
     "execution_count": 91,
     "metadata": {},
     "output_type": "execute_result"
    }
   ],
   "source": [
    "rows = np.cumsum(arr, axis=0)\n",
    "rows"
   ]
  },
  {
   "cell_type": "code",
   "execution_count": 101,
   "id": "a225a262",
   "metadata": {},
   "outputs": [
    {
     "data": {
      "text/plain": [
       "array([[ 8, 17, 23],\n",
       "       [ 3,  9, 17]], dtype=int32)"
      ]
     },
     "execution_count": 101,
     "metadata": {},
     "output_type": "execute_result"
    }
   ],
   "source": [
    "cols = np.cumsum(arr, axis=1)[:2, :3]\n",
    "cols"
   ]
  },
  {
   "cell_type": "markdown",
   "id": "9865d6cd",
   "metadata": {},
   "source": [
    "# Question 5"
   ]
  },
  {
   "cell_type": "code",
   "execution_count": 106,
   "id": "ab5dc770",
   "metadata": {},
   "outputs": [],
   "source": [
    "a = np.array([[1,0],[0,1]])\n",
    "b = np.array([[1,2],[3,4]])\n"
   ]
  },
  {
   "cell_type": "code",
   "execution_count": 111,
   "id": "249db3b9",
   "metadata": {},
   "outputs": [
    {
     "data": {
      "text/plain": [
       "array([[1, 2],\n",
       "       [3, 4]])"
      ]
     },
     "execution_count": 111,
     "metadata": {},
     "output_type": "execute_result"
    }
   ],
   "source": [
    "c = np.dot(a,b)\n",
    "c"
   ]
  },
  {
   "cell_type": "code",
   "execution_count": null,
   "id": "f6fe6ac8",
   "metadata": {},
   "outputs": [],
   "source": []
  }
 ],
 "metadata": {
  "kernelspec": {
   "display_name": "Python 3 (ipykernel)",
   "language": "python",
   "name": "python3"
  },
  "language_info": {
   "codemirror_mode": {
    "name": "ipython",
    "version": 3
   },
   "file_extension": ".py",
   "mimetype": "text/x-python",
   "name": "python",
   "nbconvert_exporter": "python",
   "pygments_lexer": "ipython3",
   "version": "3.10.10"
  }
 },
 "nbformat": 4,
 "nbformat_minor": 5
}
