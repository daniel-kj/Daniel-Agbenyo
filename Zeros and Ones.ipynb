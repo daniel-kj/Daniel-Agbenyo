{
 "cells": [
  {
   "cell_type": "code",
   "execution_count": 4,
   "id": "fdb781a3",
   "metadata": {},
   "outputs": [],
   "source": [
    "import numpy as np"
   ]
  },
  {
   "cell_type": "code",
   "execution_count": 5,
   "id": "a4fcd466",
   "metadata": {},
   "outputs": [
    {
     "data": {
      "text/plain": [
       "array([[1., 1., 1., 1., 1.],\n",
       "       [1., 1., 1., 1., 1.],\n",
       "       [1., 1., 1., 1., 1.],\n",
       "       [1., 1., 1., 1., 1.],\n",
       "       [1., 1., 1., 1., 1.]])"
      ]
     },
     "execution_count": 5,
     "metadata": {},
     "output_type": "execute_result"
    }
   ],
   "source": [
    "ones = np.ones((5, 5))\n",
    "ones"
   ]
  },
  {
   "cell_type": "code",
   "execution_count": 6,
   "id": "7b6f1ead",
   "metadata": {},
   "outputs": [
    {
     "data": {
      "text/plain": [
       "array([[0., 0., 0.],\n",
       "       [0., 9., 0.],\n",
       "       [0., 0., 0.]])"
      ]
     },
     "execution_count": 6,
     "metadata": {},
     "output_type": "execute_result"
    }
   ],
   "source": [
    "zeros = np.zeros((3, 3))\n",
    "zeros[1, 1] = 9\n",
    "zeros"
   ]
  },
  {
   "cell_type": "code",
   "execution_count": 7,
   "id": "6ade712f",
   "metadata": {},
   "outputs": [
    {
     "data": {
      "text/plain": [
       "array([[1., 1., 1., 1., 1.],\n",
       "       [1., 0., 0., 0., 1.],\n",
       "       [1., 0., 9., 0., 1.],\n",
       "       [1., 0., 0., 0., 1.],\n",
       "       [1., 1., 1., 1., 1.]])"
      ]
     },
     "execution_count": 7,
     "metadata": {},
     "output_type": "execute_result"
    }
   ],
   "source": [
    "ones[1:4, 1:4] = zeros\n",
    "ones"
   ]
  },
  {
   "cell_type": "code",
   "execution_count": 8,
   "id": "b5ba044b",
   "metadata": {},
   "outputs": [],
   "source": [
    "test9 = np.full((9, 9), 9)\n",
    "test9[1:8, 1:8] = 8\n",
    "test9[2:7, 2:7] = 7\n",
    "test9[3:6, 3:6] = 6\n",
    "test9[4,4] = 5"
   ]
  },
  {
   "cell_type": "code",
   "execution_count": 9,
   "id": "91af1370",
   "metadata": {},
   "outputs": [
    {
     "data": {
      "text/plain": [
       "array([[9, 9, 9, 9, 9, 9, 9, 9, 9],\n",
       "       [9, 8, 8, 8, 8, 8, 8, 8, 9],\n",
       "       [9, 8, 7, 7, 7, 7, 7, 8, 9],\n",
       "       [9, 8, 7, 6, 6, 6, 7, 8, 9],\n",
       "       [9, 8, 7, 6, 5, 6, 7, 8, 9],\n",
       "       [9, 8, 7, 6, 6, 6, 7, 8, 9],\n",
       "       [9, 8, 7, 7, 7, 7, 7, 8, 9],\n",
       "       [9, 8, 8, 8, 8, 8, 8, 8, 9],\n",
       "       [9, 9, 9, 9, 9, 9, 9, 9, 9]])"
      ]
     },
     "execution_count": 9,
     "metadata": {},
     "output_type": "execute_result"
    }
   ],
   "source": [
    "test9"
   ]
  },
  {
   "cell_type": "code",
   "execution_count": null,
   "id": "3ff506e9",
   "metadata": {},
   "outputs": [],
   "source": []
  }
 ],
 "metadata": {
  "kernelspec": {
   "display_name": "Python 3 (ipykernel)",
   "language": "python",
   "name": "python3"
  },
  "language_info": {
   "codemirror_mode": {
    "name": "ipython",
    "version": 3
   },
   "file_extension": ".py",
   "mimetype": "text/x-python",
   "name": "python",
   "nbconvert_exporter": "python",
   "pygments_lexer": "ipython3",
   "version": "3.10.10"
  }
 },
 "nbformat": 4,
 "nbformat_minor": 5
}
